{
 "cells": [
  {
   "cell_type": "code",
   "execution_count": 28,
   "id": "8534e4e6",
   "metadata": {},
   "outputs": [
    {
     "ename": "TypeError",
     "evalue": "int() argument must be a string, a bytes-like object or a number, not 'method'",
     "output_type": "error",
     "traceback": [
      "\u001b[1;31m---------------------------------------------------------------------------\u001b[0m",
      "\u001b[1;31mTypeError\u001b[0m                                 Traceback (most recent call last)",
      "\u001b[1;32m<ipython-input-28-791ffa8b07a8>\u001b[0m in \u001b[0;36m<module>\u001b[1;34m\u001b[0m\n\u001b[1;32m----> 1\u001b[1;33m \u001b[0ma\u001b[0m\u001b[1;33m=\u001b[0m\u001b[0mint\u001b[0m\u001b[1;33m(\u001b[0m\u001b[0minput\u001b[0m\u001b[1;33m)\u001b[0m\u001b[1;33m\u001b[0m\u001b[1;33m\u001b[0m\u001b[0m\n\u001b[0m\u001b[0;32m      2\u001b[0m \u001b[1;32mfor\u001b[0m \u001b[0ma\u001b[0m \u001b[1;32min\u001b[0m \u001b[0minput\u001b[0m\u001b[1;33m:\u001b[0m\u001b[1;33m\u001b[0m\u001b[1;33m\u001b[0m\u001b[0m\n\u001b[0;32m      3\u001b[0m     \u001b[0ma\u001b[0m\u001b[1;33m**\u001b[0m\u001b[0ma\u001b[0m\u001b[1;33m\u001b[0m\u001b[1;33m\u001b[0m\u001b[0m\n\u001b[0;32m      4\u001b[0m \u001b[0mprint\u001b[0m\u001b[1;33m(\u001b[0m\u001b[0ma\u001b[0m\u001b[1;33m)\u001b[0m\u001b[1;33m\u001b[0m\u001b[1;33m\u001b[0m\u001b[0m\n",
      "\u001b[1;31mTypeError\u001b[0m: int() argument must be a string, a bytes-like object or a number, not 'method'"
     ]
    }
   ],
   "source": [
    "a=int(input)\n",
    "for a in input:\n",
    "    a**a\n",
    "print(a)"
   ]
  },
  {
   "cell_type": "code",
   "execution_count": 2,
   "id": "6bb3476e",
   "metadata": {},
   "outputs": [
    {
     "name": "stdout",
     "output_type": "stream",
     "text": [
      "5\n",
      "[1, 4, 9, 16, 25]\n"
     ]
    }
   ],
   "source": [
    "x=[]\n",
    "a=int(input(\"\"))\n",
    "for i in range(1,a+1):\n",
    "    x.append(i**2)\n",
    "print(x)\n",
    "    "
   ]
  },
  {
   "cell_type": "code",
   "execution_count": 5,
   "id": "595f5b14",
   "metadata": {},
   "outputs": [
    {
     "name": "stdout",
     "output_type": "stream",
     "text": [
      "9\n",
      "[-1, 0, 1, 2, 3, 4, 5, 6, 7]\n"
     ]
    }
   ],
   "source": [
    "x=[]\n",
    "a=int(input(\"\"))\n",
    "for i in range(1,a+1):\n",
    "    x.append(i-2)\n",
    "print(x)"
   ]
  },
  {
   "cell_type": "code",
   "execution_count": 8,
   "id": "23bd3657",
   "metadata": {},
   "outputs": [
    {
     "name": "stdout",
     "output_type": "stream",
     "text": [
      "9\n",
      "[-1, 0, 1, 2, 3, 4, 5, 6, 7]\n"
     ]
    }
   ],
   "source": [
    "a=[]\n",
    "x=int(input(\"\"))\n",
    "for i in range(1,x+1):\n",
    "    a.append(i-2)\n",
    "print(a)"
   ]
  },
  {
   "cell_type": "code",
   "execution_count": 9,
   "id": "832daefd",
   "metadata": {},
   "outputs": [],
   "source": [
    "import numpy as np"
   ]
  },
  {
   "cell_type": "code",
   "execution_count": 11,
   "id": "d3d48f0b",
   "metadata": {},
   "outputs": [
    {
     "name": "stdout",
     "output_type": "stream",
     "text": [
      "5\n",
      "[1, 4, 9, 16, 25]\n"
     ]
    }
   ],
   "source": [
    "x=[]\n",
    "a=int(input(\"\"))\n",
    "for i in range(1,a+1):\n",
    "    x.append(i*i)\n",
    "print(x)"
   ]
  },
  {
   "cell_type": "code",
   "execution_count": 14,
   "id": "d520eee4",
   "metadata": {},
   "outputs": [
    {
     "name": "stdout",
     "output_type": "stream",
     "text": [
      "8\n",
      "28.26\n"
     ]
    }
   ],
   "source": [
    "a=int(input(\"\"))\n",
    "a=3.14*(3*3)\n",
    "print(a)"
   ]
  },
  {
   "cell_type": "code",
   "execution_count": 15,
   "id": "99f426c8",
   "metadata": {},
   "outputs": [
    {
     "name": "stdout",
     "output_type": "stream",
     "text": [
      "3\n",
      "28.274333882308138\n"
     ]
    }
   ],
   "source": [
    "r=int(input(\"\"))\n",
    "import math\n",
    "a=math.pi\n",
    "area=a*(r**2)\n",
    "print(area)"
   ]
  },
  {
   "cell_type": "code",
   "execution_count": 23,
   "id": "d16b99da",
   "metadata": {},
   "outputs": [
    {
     "name": "stdout",
     "output_type": "stream",
     "text": [
      "\n",
      " * \n",
      " *  * \n",
      " *  *  * \n",
      " *  *  *  * \n"
     ]
    }
   ],
   "source": [
    "for i in  range(4+1):\n",
    "    print(i*\" * \")\n",
    "    print(end=\"\")"
   ]
  },
  {
   "cell_type": "code",
   "execution_count": 13,
   "id": "ce667e82",
   "metadata": {},
   "outputs": [
    {
     "name": "stdout",
     "output_type": "stream",
     "text": [
      "0.02\n",
      "11.0\n",
      "benign\n"
     ]
    }
   ],
   "source": [
    "c=float(input())\n",
    "r=float(input())\n",
    "if c <=0.051:\n",
    "    if r <=14.98:\n",
    "        print(\"benign\")\n",
    "    else:\n",
    "        print(\"malignant\")\n",
    "else:\n",
    "    if r <=11.345:\n",
    "        print(\"benign\")\n",
    "    else:\n",
    "        print(\"malignant\")"
   ]
  },
  {
   "cell_type": "code",
   "execution_count": 3,
   "id": "e3235c33",
   "metadata": {},
   "outputs": [
    {
     "name": "stdout",
     "output_type": "stream",
     "text": [
      "8.602325267042627\n"
     ]
    }
   ],
   "source": [
    "a=7\n",
    "b=5\n",
    "c=(a*a+b*b)**(1/2)\n",
    "print(c)"
   ]
  },
  {
   "cell_type": "code",
   "execution_count": 4,
   "id": "8d1ac124",
   "metadata": {},
   "outputs": [
    {
     "data": {
      "text/plain": [
       "8.602325267042627"
      ]
     },
     "execution_count": 4,
     "metadata": {},
     "output_type": "execute_result"
    }
   ],
   "source": [
    "import math\n",
    "c=math.sqrt(a*a+b*b)\n",
    "c"
   ]
  },
  {
   "cell_type": "code",
   "execution_count": 21,
   "id": "9c7fb682",
   "metadata": {},
   "outputs": [
    {
     "name": "stdout",
     "output_type": "stream",
     "text": [
      "\n",
      "*\n",
      "**\n",
      "***\n",
      "****\n",
      "*****\n",
      "******\n"
     ]
    }
   ],
   "source": [
    "for i in range(7):\n",
    "    print(i*\"*\")\n",
    "    print(end=\"\")"
   ]
  },
  {
   "cell_type": "code",
   "execution_count": null,
   "id": "4a503dcf",
   "metadata": {},
   "outputs": [],
   "source": [
    "for i"
   ]
  },
  {
   "cell_type": "code",
   "execution_count": 34,
   "id": "babb0a59",
   "metadata": {},
   "outputs": [
    {
     "name": "stdout",
     "output_type": "stream",
     "text": [
      "5\n",
      "0 *\n",
      "1 *\n",
      "2 *\n",
      "3 *\n"
     ]
    }
   ],
   "source": [
    "n=int(input())\n",
    "for i in range(4):\n",
    "    print(i,\"*\")\n",
    "    print(end=\"\")"
   ]
  },
  {
   "cell_type": "code",
   "execution_count": 2,
   "id": "4dafd472",
   "metadata": {},
   "outputs": [],
   "source": [
    "class UserMainCode(object):\n",
    "    @classmethod\n",
    "    def capitalize(cls,input1):\n",
    "        print(input1)\n",
    "        a=input1.title()\n",
    "        print(a)\n",
    "        return a\n",
    "        "
   ]
  },
  {
   "cell_type": "code",
   "execution_count": 6,
   "id": "425e523b",
   "metadata": {},
   "outputs": [],
   "source": [
    "def capitalize(cls,input1):\n",
    "        print(input1)\n",
    "        a=input1.title()\n",
    "        print(a)\n",
    "        return a"
   ]
  },
  {
   "cell_type": "code",
   "execution_count": 7,
   "id": "9c22eae5",
   "metadata": {},
   "outputs": [
    {
     "name": "stdout",
     "output_type": "stream",
     "text": [
      "he is a boy\n",
      "He Is A Boy\n"
     ]
    },
    {
     "data": {
      "text/plain": [
       "'He Is A Boy'"
      ]
     },
     "execution_count": 7,
     "metadata": {},
     "output_type": "execute_result"
    }
   ],
   "source": [
    "capitalize(object,\"he is a boy\")"
   ]
  },
  {
   "cell_type": "code",
   "execution_count": 10,
   "id": "4c68d229",
   "metadata": {},
   "outputs": [],
   "source": [
    "class UserMainCode(object):\n",
    "    @classmethod\n",
    "    def capitalise(cls,input1):\n",
    "        print(input1)\n",
    "        a=input1.capitalize()\n",
    "        print(a)\n",
    "        return a"
   ]
  },
  {
   "cell_type": "code",
   "execution_count": 12,
   "id": "bd6e0e7b",
   "metadata": {},
   "outputs": [],
   "source": [
    "def capitalise(cls,input1):\n",
    "        print(input1)\n",
    "        a=input1.capitalize()\n",
    "        print(a)\n",
    "        return a"
   ]
  },
  {
   "cell_type": "code",
   "execution_count": 26,
   "id": "5124fd6d",
   "metadata": {},
   "outputs": [],
   "source": [
    "def capitalize(cls,input1):\n",
    "    print(input1)\n",
    "    a=input1.capitalize()\n",
    "    print(a)\n",
    "    return a"
   ]
  },
  {
   "cell_type": "code",
   "execution_count": 13,
   "id": "9437fcfb",
   "metadata": {},
   "outputs": [
    {
     "name": "stdout",
     "output_type": "stream",
     "text": [
      "he is a boy\n",
      "He is a boy\n"
     ]
    },
    {
     "data": {
      "text/plain": [
       "'He is a boy'"
      ]
     },
     "execution_count": 13,
     "metadata": {},
     "output_type": "execute_result"
    }
   ],
   "source": [
    "capitalise(object,\"he is a boy\")"
   ]
  },
  {
   "cell_type": "code",
   "execution_count": 20,
   "id": "cde5da86",
   "metadata": {},
   "outputs": [
    {
     "name": "stdout",
     "output_type": "stream",
     "text": [
      "5\n",
      "[[1 1 1 1 1]\n",
      " [0 1 0 0 0]\n",
      " [0 0 1 0 0]\n",
      " [0 0 0 1 0]\n",
      " [1 1 1 1 1]]\n"
     ]
    }
   ],
   "source": [
    "n=int(input())\n",
    "import numpy as np\n",
    "a=np.zeros([n,n],int)\n",
    "a[0]=a[n-1]=1\n",
    "b=1\n",
    "for i in range(1,n-1):\n",
    "    a[i][b]=1\n",
    "    b=b+1\n",
    "print(a)\n",
    "    "
   ]
  },
  {
   "cell_type": "code",
   "execution_count": 49,
   "id": "5f37d40e",
   "metadata": {},
   "outputs": [],
   "source": [
    "class UserMainCode(object):\n",
    "    @classmethod\n",
    "    def capitalise(cls,n):\n",
    "        a=np.zeros([n,n],int)\n",
    "        a[0]=a[n-1]=1\n",
    "        b=1\n",
    "        for i in range(1,n-1):\n",
    "            a[i][b]=1\n",
    "            b=b+1\n",
    "        print(a)\n",
    "        return a\n",
    "        "
   ]
  },
  {
   "cell_type": "code",
   "execution_count": 50,
   "id": "a521cced",
   "metadata": {},
   "outputs": [],
   "source": [
    "def capitalise(cls,n):\n",
    "        a=np.zeros([n,n],int)\n",
    "        a[0]=a[n-1]=1\n",
    "        b=1\n",
    "        for i in range(1,n-1):\n",
    "            a[i][b]=1\n",
    "            b=b+1\n",
    "        print(a)\n",
    "        return a"
   ]
  },
  {
   "cell_type": "code",
   "execution_count": 25,
   "id": "1dc46c6f",
   "metadata": {},
   "outputs": [
    {
     "name": "stdout",
     "output_type": "stream",
     "text": [
      "[[1 1 1 1 1]\n",
      " [0 1 0 0 0]\n",
      " [0 0 1 0 0]\n",
      " [0 0 0 1 0]\n",
      " [1 1 1 1 1]]\n"
     ]
    },
    {
     "data": {
      "text/plain": [
       "array([[1, 1, 1, 1, 1],\n",
       "       [0, 1, 0, 0, 0],\n",
       "       [0, 0, 1, 0, 0],\n",
       "       [0, 0, 0, 1, 0],\n",
       "       [1, 1, 1, 1, 1]])"
      ]
     },
     "execution_count": 25,
     "metadata": {},
     "output_type": "execute_result"
    }
   ],
   "source": [
    "capitalise(object,5)"
   ]
  },
  {
   "cell_type": "code",
   "execution_count": 27,
   "id": "17d797fe",
   "metadata": {},
   "outputs": [
    {
     "name": "stdout",
     "output_type": "stream",
     "text": [
      "2\n"
     ]
    }
   ],
   "source": [
    "a=[1,3,4,7,5]\n",
    "b=4\n",
    "c=0\n",
    "for i in a:\n",
    "  if i>b:\n",
    "    c=c+1\n",
    "print(c)"
   ]
  },
  {
   "cell_type": "code",
   "execution_count": 35,
   "id": "82fa5541",
   "metadata": {},
   "outputs": [],
   "source": [
    "def List(a):\n",
    "    x=[]\n",
    "    for i in a :\n",
    "        x.append(i)\n",
    "    return x"
   ]
  },
  {
   "cell_type": "code",
   "execution_count": 36,
   "id": "b2731baf",
   "metadata": {},
   "outputs": [
    {
     "data": {
      "text/plain": [
       "[1, 2, 3, 4, 5]"
      ]
     },
     "execution_count": 36,
     "metadata": {},
     "output_type": "execute_result"
    }
   ],
   "source": [
    "List((1,2,3,4,5))"
   ]
  },
  {
   "cell_type": "code",
   "execution_count": 59,
   "id": "10bddac2",
   "metadata": {},
   "outputs": [],
   "source": [
    "def shape(a):\n",
    "    for i in range(1,a+1):\n",
    "        for j in range(1,i+1):\n",
    "            print(j,end=\"\")"
   ]
  },
  {
   "cell_type": "code",
   "execution_count": 62,
   "id": "ea959d07",
   "metadata": {},
   "outputs": [
    {
     "name": "stdout",
     "output_type": "stream",
     "text": [
      "1121231234"
     ]
    }
   ],
   "source": [
    "shape(4)"
   ]
  },
  {
   "cell_type": "code",
   "execution_count": 80,
   "id": "da3cd4b2",
   "metadata": {},
   "outputs": [],
   "source": [
    "def shape(a):\n",
    "    x=[]\n",
    "    for i in range(1,a+1):\n",
    "        for j in range(1,i+1):\n",
    "            print(j,end=\"\")\n",
    "        print(j)"
   ]
  },
  {
   "cell_type": "code",
   "execution_count": 82,
   "id": "feaac111",
   "metadata": {},
   "outputs": [
    {
     "name": "stdout",
     "output_type": "stream",
     "text": [
      "11\n",
      "122\n",
      "1233\n",
      "12344\n",
      "123455\n"
     ]
    }
   ],
   "source": [
    "shape(5)"
   ]
  },
  {
   "cell_type": "code",
   "execution_count": 57,
   "id": "4eaacf57",
   "metadata": {},
   "outputs": [],
   "source": [
    "def List(a):\n",
    "    x=[]\n",
    "    for i in a:\n",
    "        x.append(i)\n",
    "    return x"
   ]
  },
  {
   "cell_type": "code",
   "execution_count": 58,
   "id": "7c625b71",
   "metadata": {},
   "outputs": [
    {
     "data": {
      "text/plain": [
       "[5, 6, 7, 8, 9]"
      ]
     },
     "execution_count": 58,
     "metadata": {},
     "output_type": "execute_result"
    }
   ],
   "source": [
    "List((5,6,7,8,9))"
   ]
  },
  {
   "cell_type": "code",
   "execution_count": 88,
   "id": "42f7cc2d",
   "metadata": {},
   "outputs": [],
   "source": [
    "def chair(a):\n",
    "    x=[]\n",
    "    for i in range(1,a+1):\n",
    "        for j in range(1,i+1):\n",
    "            print(j,end=\"\")\n",
    "        print()\n",
    "    for i in range(a-1,0,-1):\n",
    "        for j in range(1,i+1):\n",
    "            print(j,end=\"\")\n",
    "        print()"
   ]
  },
  {
   "cell_type": "code",
   "execution_count": 92,
   "id": "ffc278e0",
   "metadata": {},
   "outputs": [
    {
     "name": "stdout",
     "output_type": "stream",
     "text": [
      "1\n",
      "12\n",
      "123\n",
      "12\n",
      "1\n"
     ]
    }
   ],
   "source": [
    "chair(3)"
   ]
  },
  {
   "cell_type": "code",
   "execution_count": 94,
   "id": "1bfc8903",
   "metadata": {},
   "outputs": [
    {
     "name": "stdout",
     "output_type": "stream",
     "text": [
      "10\n"
     ]
    }
   ],
   "source": [
    "a=20\n",
    "b=10\n",
    "if a>b:\n",
    "    c=b\n",
    "elif a<b:\n",
    "    c=a\n",
    "else:\n",
    "    print(a)\n",
    "for i in range(1,c+1):\n",
    "    if(a%i==0) and (b%i==0):\n",
    "        gcd=i\n",
    "print(gcd)"
   ]
  },
  {
   "cell_type": "code",
   "execution_count": 8,
   "id": "ded5db44",
   "metadata": {},
   "outputs": [
    {
     "name": "stdout",
     "output_type": "stream",
     "text": [
      "6\n",
      "[[1 1 1 1 1 1]\n",
      " [0 1 0 0 0 0]\n",
      " [0 0 1 0 0 0]\n",
      " [0 0 0 1 0 0]\n",
      " [0 0 0 0 1 0]\n",
      " [1 1 1 1 1 1]]\n"
     ]
    }
   ],
   "source": [
    "n=int(input())\n",
    "import numpy as np\n",
    "a=np.zeros([n,n],int)\n",
    "a[0]=a[n-1]=1\n",
    "b=1\n",
    "for i in range(1,n-1):\n",
    "    a[i][b]=1\n",
    "    b=b+1\n",
    "print(a)"
   ]
  },
  {
   "cell_type": "code",
   "execution_count": 9,
   "id": "3cea50fe",
   "metadata": {},
   "outputs": [
    {
     "name": "stdout",
     "output_type": "stream",
     "text": [
      "5\n",
      "[[1 1 1 1 1]\n",
      " [0 1 0 0 0]\n",
      " [0 0 1 0 0]\n",
      " [0 0 0 1 0]\n",
      " [1 1 1 1 1]]\n"
     ]
    }
   ],
   "source": [
    "n=int(input())\n",
    "import numpy as np\n",
    "a=np.zeros([n,n],int)\n",
    "a[0]=a[n-1]=1\n",
    "b=1\n",
    "for i in range(1,n-1):\n",
    "    a[i][b]=1\n",
    "    b=b+1\n",
    "print(a)"
   ]
  },
  {
   "cell_type": "code",
   "execution_count": 10,
   "id": "b67c014c",
   "metadata": {},
   "outputs": [
    {
     "name": "stdout",
     "output_type": "stream",
     "text": [
      "4\n",
      "[[1 1 1 1]\n",
      " [0 1 0 0]\n",
      " [0 0 1 0]\n",
      " [1 1 1 1]]\n"
     ]
    }
   ],
   "source": [
    "n=int(input())\n",
    "import numpy as np\n",
    "a=np.zeros([n,n],int)\n",
    "a[0]=a[n-1]=1\n",
    "b=1\n",
    "for i in range(1,n-1):\n",
    "    a[i][b]=1\n",
    "    b=b+1\n",
    "print(a)"
   ]
  },
  {
   "cell_type": "code",
   "execution_count": 12,
   "id": "0d2ab0ff",
   "metadata": {},
   "outputs": [
    {
     "name": "stdout",
     "output_type": "stream",
     "text": [
      "3\n",
      "[[1 1 1]\n",
      " [0 1 0]\n",
      " [1 1 1]]\n"
     ]
    }
   ],
   "source": [
    "n=int(input())\n",
    "import numpy as np\n",
    "a=np.zeros([n,n],int)\n",
    "a[0]=a[n-1]=1\n",
    "b=1\n",
    "for i in range(1,n-1):\n",
    "    a[i][b]=1\n",
    "    b=b+1\n",
    "print(a)"
   ]
  },
  {
   "cell_type": "code",
   "execution_count": 9,
   "id": "29b7c2f4",
   "metadata": {},
   "outputs": [
    {
     "name": "stdout",
     "output_type": "stream",
     "text": [
      "0000\n",
      "0110\n",
      "0110\n",
      "0000\n"
     ]
    }
   ],
   "source": [
    "for i in range(4):\n",
    "    for j in range(4):\n",
    "        if (i == 1 or i == 2) and (j == 1 or j == 2):\n",
    "            print(1, end =\"\")\n",
    "        else:\n",
    "            print(0, end =\"\")\n",
    "    print()"
   ]
  },
  {
   "cell_type": "code",
   "execution_count": 14,
   "id": "4f66dc79",
   "metadata": {},
   "outputs": [
    {
     "name": "stdout",
     "output_type": "stream",
     "text": [
      "3\n",
      "[[1 1 1]\n",
      " [0 1 0]\n",
      " [1 1 1]]\n"
     ]
    }
   ],
   "source": [
    "n=int(input())\n",
    "import numpy as np\n",
    "a=np.zeros([n,n],int)\n",
    "a[0]=a[n-1]=1\n",
    "b=1\n",
    "for i in range(1,n-1):\n",
    "    a[i][b]=1\n",
    "    b=b+1\n",
    "print(a)"
   ]
  },
  {
   "cell_type": "code",
   "execution_count": 26,
   "id": "fd39370b",
   "metadata": {},
   "outputs": [],
   "source": [
    "def capitalize(cls,input1):\n",
    "    print(input1)\n",
    "    a=input1.capitalize()\n",
    "    print(a)\n",
    "    return a"
   ]
  },
  {
   "cell_type": "code",
   "execution_count": 28,
   "id": "bf716021",
   "metadata": {},
   "outputs": [
    {
     "name": "stdout",
     "output_type": "stream",
     "text": [
      "are you mad?\n",
      "Are you mad?\n"
     ]
    },
    {
     "data": {
      "text/plain": [
       "'Are you mad?'"
      ]
     },
     "execution_count": 28,
     "metadata": {},
     "output_type": "execute_result"
    }
   ],
   "source": [
    "capitalize(object,\"are you mad?\")"
   ]
  },
  {
   "cell_type": "code",
   "execution_count": 35,
   "id": "9875e8d2",
   "metadata": {},
   "outputs": [],
   "source": [
    "def capitalize(cls,input1):\n",
    "    print(input1)\n",
    "    a=input1.title()\n",
    "    print(a)\n",
    "    return a"
   ]
  },
  {
   "cell_type": "code",
   "execution_count": 36,
   "id": "e53a8d74",
   "metadata": {},
   "outputs": [
    {
     "name": "stdout",
     "output_type": "stream",
     "text": [
      "are you dude?\n",
      "Are You Dude?\n"
     ]
    },
    {
     "data": {
      "text/plain": [
       "'Are You Dude?'"
      ]
     },
     "execution_count": 36,
     "metadata": {},
     "output_type": "execute_result"
    }
   ],
   "source": [
    "capitalize(object,\"are you dude?\")"
   ]
  },
  {
   "cell_type": "code",
   "execution_count": 39,
   "id": "4da78767",
   "metadata": {},
   "outputs": [],
   "source": [
    "def capitalize(cls,input1):\n",
    "    print(input1)\n",
    "    a=input1.title()\n",
    "    print(a)\n",
    "    return a"
   ]
  },
  {
   "cell_type": "code",
   "execution_count": 41,
   "id": "b303fb70",
   "metadata": {},
   "outputs": [
    {
     "name": "stdout",
     "output_type": "stream",
     "text": [
      "free coupon\n",
      "Free Coupon\n"
     ]
    },
    {
     "data": {
      "text/plain": [
       "'Free Coupon'"
      ]
     },
     "execution_count": 41,
     "metadata": {},
     "output_type": "execute_result"
    }
   ],
   "source": [
    "capitalize(object,\"free coupon\")"
   ]
  },
  {
   "cell_type": "code",
   "execution_count": 42,
   "id": "655ad40a",
   "metadata": {},
   "outputs": [],
   "source": [
    "def capitalize(cls,input1):\n",
    "    print(input1)\n",
    "    a=input1.capitalize()\n",
    "    print(a)\n",
    "    return a"
   ]
  },
  {
   "cell_type": "code",
   "execution_count": 43,
   "id": "bbebdfd4",
   "metadata": {},
   "outputs": [
    {
     "name": "stdout",
     "output_type": "stream",
     "text": [
      "free coupon\n",
      "Free coupon\n"
     ]
    },
    {
     "data": {
      "text/plain": [
       "'Free coupon'"
      ]
     },
     "execution_count": 43,
     "metadata": {},
     "output_type": "execute_result"
    }
   ],
   "source": [
    "capitalize(object,\"free coupon\")"
   ]
  },
  {
   "cell_type": "code",
   "execution_count": 44,
   "id": "7ec6fa97",
   "metadata": {},
   "outputs": [
    {
     "name": "stdout",
     "output_type": "stream",
     "text": [
      "4\n",
      "0 \n",
      "1 2 \n",
      "2 3 4 \n",
      "3 4 5 6 \n"
     ]
    }
   ],
   "source": [
    "n=int(input())\n",
    "for i in range(n):\n",
    "    for j in range(i+1):\n",
    "        print(j+i,end=\" \")\n",
    "    print()"
   ]
  },
  {
   "cell_type": "code",
   "execution_count": 47,
   "id": "e4009150",
   "metadata": {},
   "outputs": [
    {
     "name": "stdout",
     "output_type": "stream",
     "text": [
      "3\n",
      "1\n",
      "12\n",
      "123\n"
     ]
    }
   ],
   "source": [
    "n=int(input())\n",
    "for i in range(n):\n",
    "    for j in range(i+1):\n",
    "        print(j+1,end=\"\")\n",
    "    print()"
   ]
  },
  {
   "cell_type": "code",
   "execution_count": 48,
   "id": "53d7c9b1",
   "metadata": {},
   "outputs": [
    {
     "name": "stdout",
     "output_type": "stream",
     "text": [
      "3\n",
      "\n",
      "*\n",
      "**\n"
     ]
    }
   ],
   "source": [
    "n=int(input())\n",
    "for i in range(n):\n",
    "    print(i*\"*\")\n",
    "    print(end=\"\")"
   ]
  },
  {
   "cell_type": "code",
   "execution_count": null,
   "id": "24568ca8",
   "metadata": {},
   "outputs": [],
   "source": []
  }
 ],
 "metadata": {
  "kernelspec": {
   "display_name": "Python 3",
   "language": "python",
   "name": "python3"
  },
  "language_info": {
   "codemirror_mode": {
    "name": "ipython",
    "version": 3
   },
   "file_extension": ".py",
   "mimetype": "text/x-python",
   "name": "python",
   "nbconvert_exporter": "python",
   "pygments_lexer": "ipython3",
   "version": "3.8.8"
  }
 },
 "nbformat": 4,
 "nbformat_minor": 5
}
